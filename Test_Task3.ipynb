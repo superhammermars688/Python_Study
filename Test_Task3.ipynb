{
 "cells": [
  {
   "cell_type": "markdown",
   "id": "c3b96a57-ae71-4b95-a05e-df33fd68f168",
   "metadata": {},
   "source": [
    "### task1==>编写一个函数number_type，具有一个参数x。如果x是正数则打印\"这个数是正数\"，如果x是负数则打印\"这个数是负数\"，如果x是0则打印\"这个数是0\"。接着调用函数number_type(-19), number_type(84), number_type(0)查看结果是否符合预期。"
   ]
  },
  {
   "cell_type": "code",
   "execution_count": 2,
   "id": "489977d5-d510-4e25-8c68-d834b1041155",
   "metadata": {},
   "outputs": [
    {
     "name": "stdout",
     "output_type": "stream",
     "text": [
      "这个数是负数\n",
      "这个数是正数\n",
      "这个数是0\n"
     ]
    }
   ],
   "source": [
    "def number_type(X):                #函数定义\n",
    "    if X>0:                        #逻辑判定X>0是否为真\n",
    "        print('这个数是正数')        #上条逻辑真的打印结果\n",
    "    elif X<0:                      #上述逻辑判定为假，执行X<0逻辑判定是否为真\n",
    "        print('这个数是负数')        #上条逻辑真的打印结果\n",
    "    else:                          #上述两个假设逻辑判定都为假，执行此行\n",
    "        print('这个数是0')          #执行其他情况\n",
    "number_type(-19)                   #调用自定义函数number_type并输入参数为-19\n",
    "number_type(84)                    #调用自定义函数number_type并输入参数为84\n",
    "number_type(0)                     #调用自定义函数number_type并输入参数为0"
   ]
  },
  {
   "cell_type": "markdown",
   "id": "991c0dca-88c3-42eb-ab6b-c378c677d9d6",
   "metadata": {},
   "source": [
    "### task2==>编写一个返回年龄的函数age_cal，具有两个参数：出生年份birth_year和当前年份current_year，并给current_year设置默认值2024。（假设年龄为当前年份减去出生年份，不用考虑虚岁等复杂情况）。接着调用函数age_cal(2006), age_cal(1984, 2020)，查看结果是否符合预期。"
   ]
  },
  {
   "cell_type": "code",
   "execution_count": 3,
   "id": "b83ba644-2751-425a-9b9d-5e8cf9edd01a",
   "metadata": {},
   "outputs": [
    {
     "name": "stdout",
     "output_type": "stream",
     "text": [
      "18\n",
      "36\n",
      "孩子还没生出来呢\n"
     ]
    }
   ],
   "source": [
    "def age_cal(birth_year,current_year = 2024):     #函数定义\n",
    "    if birth_year>current_year:                  #判定出生年份与当前年份，确认是否生出来\n",
    "        return str('孩子还没生出来呢')              #没生出来逻辑真则返回‘孩子还没生出来呢’字符串\n",
    "    else:                                        #其他情况\n",
    "        return current_year-birth_year           #返回年龄\n",
    "\n",
    "print(age_cal(2006))                             #打印并调用自定义函数age_cal并输入一个参数2006\n",
    "print(age_cal(1984,2020))                        #打印并调用自定义函数age_cal并输入两个参数1984,2020\n",
    "print(age_cal(2026))                             #打印并调用自定义函数age_cal并输入一个参数2026，输入一个没出生的情况"
   ]
  },
  {
   "cell_type": "markdown",
   "id": "8d76b40d-2d3b-4ceb-ae58-9bc9e83c77e7",
   "metadata": {},
   "source": [
    "### task3==>利用课件中判断一个自然数是否为质数的函数is_prime()，生成一个列表，包含1~100中的所有质数，并打印出来。（可以使用for循环语句和append()函数来构造，也可以使用列表推导式来构造。）"
   ]
  },
  {
   "cell_type": "code",
   "execution_count": 15,
   "id": "ba440ba1-539d-419b-8785-094f2194ee80",
   "metadata": {},
   "outputs": [
    {
     "name": "stdout",
     "output_type": "stream",
     "text": [
      "用for循环建的列表 [2, 3, 5, 7, 11, 13, 17, 19, 23, 29, 31, 37, 41, 43, 47, 53, 59, 61, 67, 71, 73, 79, 83, 89, 97]\n",
      "用while循环建的列表 [2, 3, 5, 7, 11, 13, 17, 19, 23, 29, 31, 37, 41, 43, 47, 53, 59, 61, 67, 71, 73, 79, 83, 89, 97]\n"
     ]
    }
   ],
   "source": [
    "def is_prime(n):            # 判断一个自然数是否为质数\n",
    "    if n < 2:               # 如果n小于2\n",
    "       return False         # 肯定不是质数，直接返回False\n",
    "    for i in range(2, n):   # 从2开始到n-1，依次检查n是否能被整除\n",
    "      if n % i == 0:        # 如果能整除\n",
    "        return False        # 说明n不是质数，返回False\n",
    "    return True             # 如果都不能整除，说明n是质数就返回True\n",
    "\n",
    "#方法1==>for循环\n",
    "list_no_prime_v1 = []                       #定义列表list_no_prime_v1\n",
    "for i in range(100):                        #定义i的循环范围0<=i<100\n",
    "    if is_prime(i) == True:                 #判断i是否为质数\n",
    "        list_no_prime_v1.append(i)          #如是，则追加list\n",
    "print('用for循环建的列表',list_no_prime_v1)   #打印list\n",
    "\n",
    "#方法2==>while循环\n",
    "list_no_prime_v2 = []                       #定义列表list_no_prime_v1\n",
    "j = 0                                       #定义循环计数器j，初始值是0\n",
    "while j < 100:                              #定义循环计数器的范围\n",
    "    if is_prime(j) == True:                 #判断j是否为质数\n",
    "        list_no_prime_v2.append(j)          #如是，则追加list\n",
    "        j = j + 1                           #循环计数器手动+1\n",
    "    else:                                   #其他情况，即：不是质数\n",
    "        j = j + 1                           #循环计数器手动+1\n",
    "print('用while循环建的列表',list_no_prime_v2) #打印list"
   ]
  },
  {
   "cell_type": "markdown",
   "id": "216e50f2-9bbd-4f4f-b443-ab1700222297",
   "metadata": {},
   "source": [
    "### task4==>以下任务\n",
    "1. **读取北京二手房数据，用两个列表分别保存floor列和price列（参考Task2作业中的提示）。**\n",
    "2. **建立三个列表：low，middle，high其中:**\n",
    "    1. **low：保存所有floor == 'low'的数据对应的price**\n",
    "    2. **middle：保存所有floor == 'middle'的数据对应的price**\n",
    "    3. **high：保存所有floor == 'high'的数据对应的price**\n",
    "3. **分别打印以上三个列表的前10个元素。**\n",
    "\n",
    "*提示：新建三个空列表，然后使用append()函数将满足要求的元素加入相应的列表中。*"
   ]
  },
  {
   "cell_type": "code",
   "execution_count": 87,
   "id": "abc415ae-d844-474b-9691-af57c4b1ed9f",
   "metadata": {},
   "outputs": [
    {
     "name": "stdout",
     "output_type": "stream",
     "text": [
      "low对应的前10个数据是 [7.1268, 7.069, 5.7348, 5.3334, 6.6634, 6.605, 6.7749, 7.101, 5.2174, 4.57]\n",
      "middle对应的前10个数据是 [4.885, 4.654, 5.5179, 4.5591, 7.3585, 6.0516, 5.4437, 5.0549, 6.8576, 4.4191]\n",
      "high对应的前10个数据是 [7.1662, 5.7972, 5.6498, 5.5209, 4.5269, 4.3429, 3.9637, 3.6227, 4.5036, 7.727]\n"
     ]
    }
   ],
   "source": [
    "import pandas as pd\n",
    "house_data = pd.read_csv('北京二手房数据.csv',encoding='gbk')    #导入数据\n",
    "house_data_floor = list(house_data['floor'])                   #floor列数据赋予house_data_floor列表\n",
    "house_data_price = list(house_data['price'])                   #price列数据赋予house_data_price列表\n",
    "low,middle,high = list(),list(),list()                         #建立low,middle,high三个空列表\n",
    "for i in range(len(house_data_floor)):                         #循环开始，定义i的范围，以house_data_floor列表长度为重点\n",
    "    if house_data_floor[i] == 'low':                           #判定是否等于low\n",
    "        low.append(house_data_price[i])                        #如low真，则追加low列表数据\n",
    "    elif house_data_floor[i] == 'middle':                      #判定是否等于middle\n",
    "        middle.append(house_data_price[i])                     #如middle真，则追加middle列表数据\n",
    "    else:                                                      #其他情况\n",
    "        high.append(house_data_price[i])                       #追加high列表数据\n",
    "print('low对应的前10个数据是',low[0:10])                          #打印low列表前10个数据\n",
    "print('middle对应的前10个数据是',middle[0:10])                    #打印middle列表前10个数据\n",
    "print('high对应的前10个数据是',high[0:10])                        #打印high列表前10个数据"
   ]
  },
  {
   "cell_type": "markdown",
   "id": "a9746afd-9c88-4b3b-96ca-66c691257031",
   "metadata": {},
   "source": [
    "### task5==>编写一个函数is_number，判断一个字符是否是数字或小数点'.'，是则返回True，否则返回False。 最后调用函数is_number('.')，is_number('3'),is_number('s')查看结果是否正确。"
   ]
  },
  {
   "cell_type": "code",
   "execution_count": 56,
   "id": "c6620f39-1570-4e5a-8b26-e221495e71f1",
   "metadata": {},
   "outputs": [
    {
     "name": "stdout",
     "output_type": "stream",
     "text": [
      "True\n",
      "True\n",
      "False\n"
     ]
    }
   ],
   "source": [
    "def is_number(i):                     #定义函数名称和参数\n",
    "    if i=='.' or i.isnumeric():       #逻辑或判定是否是点还是数字\n",
    "        return True                   #真就返回True\n",
    "    else:                             #其他情况\n",
    "        return False                  #返回False\n",
    "print(is_number('.'))\n",
    "print(is_number('3'))\n",
    "print(is_number('s'))"
   ]
  },
  {
   "cell_type": "markdown",
   "id": "6e707cd2-144b-4ba6-b873-fd081b7fc0b3",
   "metadata": {},
   "source": [
    "### task6==>编写一个函数extract_number，提取字符串中的数字，若成功提取到数字，请把它转换为浮点型并返回；若字符串中没有数字，则打印'该字符串不包含数字'，并返回None。最后调用函数extract_number('大概102.5左右')，extract_number('abcde')查看结果是否符合预期。"
   ]
  },
  {
   "cell_type": "markdown",
   "id": "c229aa97-8d48-4a0e-8bbc-17c32d93785c",
   "metadata": {},
   "source": [
    "1. 此处不用考虑字符串中只包含小数点没有数字，或者有多个小数点的情形。仅需考虑字符串中夹杂着一段正常数字的情形，例如'大概102.5左右'。\n",
    "2. 新建一个空字符串num_str=''，然后用for循环遍历所提供的字符串每个字符，并用上面编写的is_number函数来判断该字符是否为数字或小数点，\n",
    "3. 若是则把它拼接到num_str后面。遍历完所有字符后，利用len()来判断num_str是否收集到数字；若num_str长度为0，则表示所提供字符串没有数字。"
   ]
  },
  {
   "cell_type": "code",
   "execution_count": 1,
   "id": "386f840b-9b5d-48b9-87a4-ecbe272701e0",
   "metadata": {},
   "outputs": [
    {
     "name": "stdout",
     "output_type": "stream",
     "text": [
      "102.5\n",
      "没有数字\n"
     ]
    }
   ],
   "source": [
    "import pandas\n",
    "\n",
    "def is_number(i):                        #说明见上题\n",
    "    if i=='.' or i.isnumeric():\n",
    "        return True\n",
    "    else:\n",
    "        return False\n",
    "\n",
    "def extract_number(j):                     #定义提取数字的函数名称和参数\n",
    "    num_str = str()                        #定义一个空字符串，用于存储循环遍历的数字\n",
    "    for c in range(len(j)):                #定义遍历的长度，最长就是字符串的长度\n",
    "        if is_number(j[c]) == True:        #调用上题函数\n",
    "            num_str = num_str + j[c]       #如果是True,就追加当前循环数字切片位置的字符\n",
    "    \n",
    "    if len(num_str) == 0:                  #如果num_str字符串长度是0，就返回没有数字\n",
    "        return '没有数字'\n",
    "    else:                                  #其他情况，将字符串转换为浮点型之后，返回\n",
    "        return float(num_str)\n",
    "\n",
    "print(extract_number('大概102.5左右'))\n",
    "print(extract_number('abcde'))"
   ]
  }
 ],
 "metadata": {
  "kernelspec": {
   "display_name": "Python 3 (ipykernel)",
   "language": "python",
   "name": "python3"
  },
  "language_info": {
   "codemirror_mode": {
    "name": "ipython",
    "version": 3
   },
   "file_extension": ".py",
   "mimetype": "text/x-python",
   "name": "python",
   "nbconvert_exporter": "python",
   "pygments_lexer": "ipython3",
   "version": "3.12.3"
  }
 },
 "nbformat": 4,
 "nbformat_minor": 5
}
